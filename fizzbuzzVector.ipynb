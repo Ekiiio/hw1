{
  "nbformat": 4,
  "nbformat_minor": 0,
  "metadata": {
    "colab": {
      "provenance": [],
      "authorship_tag": "ABX9TyNyb0AEIJByDfL4nrbkPtYD",
      "include_colab_link": true
    },
    "kernelspec": {
      "name": "python3",
      "display_name": "Python 3"
    },
    "language_info": {
      "name": "python"
    }
  },
  "cells": [
    {
      "cell_type": "markdown",
      "metadata": {
        "id": "view-in-github",
        "colab_type": "text"
      },
      "source": [
        "<a href=\"https://colab.research.google.com/github/Ekiiio/hw1/blob/main/fizzbuzzVector.ipynb\" target=\"_parent\"><img src=\"https://colab.research.google.com/assets/colab-badge.svg\" alt=\"Open In Colab\"/></a>"
      ]
    },
    {
      "cell_type": "code",
      "execution_count": null,
      "metadata": {
        "id": "Yc1iYQP7Yv28"
      },
      "outputs": [],
      "source": [
        "#!/usr/bin/env python3\n",
        "# -*- coding: utf-8 -*-\n",
        "\"\"\"\n",
        "Created on Tue Jun 11 21:47:04 2024\n",
        "\n",
        "@author: tleitch\n",
        "\"\"\"\n",
        "\n",
        "# Have this code run for any start and finish values\n",
        "\n",
        "def FizzBuzz(start, finish):\n",
        "    outlist = []\n",
        "    for i in range(start,finish+1):\n",
        "      if i % 3==0 :\n",
        "       outlist.append(\"fizz\")\n",
        "      else:\n",
        "        outlist.append(i)\n",
        "        print(outlist)\n",
        "    return(outlist)\n",
        "\n",
        "print(FizzBuzz(1,15))\n",
        "\n",
        "# Tools: Append to a list\n",
        "\n",
        "myEmptyList = []\n",
        "for i in range(1,16):\n",
        "    myEmptyList.append(i)\n",
        "\n",
        "print(myEmptyList)\n"
      ]
    }
  ]
}