{
  "nbformat": 4,
  "nbformat_minor": 0,
  "metadata": {
    "colab": {
      "provenance": [],
      "include_colab_link": true
    },
    "kernelspec": {
      "name": "python3",
      "display_name": "Python 3"
    },
    "language_info": {
      "name": "python"
    }
  },
  "cells": [
    {
      "cell_type": "markdown",
      "metadata": {
        "id": "view-in-github",
        "colab_type": "text"
      },
      "source": [
        "<a href=\"https://colab.research.google.com/github/Ekiiio/hw1/blob/main/simpleFunc.ipynb\" target=\"_parent\"><img src=\"https://colab.research.google.com/assets/colab-badge.svg\" alt=\"Open In Colab\"/></a>"
      ]
    },
    {
      "cell_type": "code",
      "execution_count": 10,
      "metadata": {
        "colab": {
          "base_uri": "https://localhost:8080/"
        },
        "id": "SMC-bUUN9-gj",
        "outputId": "e4007353-73ad-4706-ad66-e16b356b0728"
      },
      "outputs": [
        {
          "output_type": "execute_result",
          "data": {
            "text/plain": [
              "[7, 5, 12, 'hello']"
            ]
          },
          "metadata": {},
          "execution_count": 10
        }
      ],
      "source": [
        "#!/usr/bin/env python3\n",
        "# -*- coding: utf-8 -*-\n",
        "\"\"\"\n",
        "Created on Tue Jun 11 20:43:08 2024\n",
        "\n",
        "@author: tleitch\n",
        "\"\"\"\n",
        "\n",
        "def MySum(a, b):\n",
        "    value = a+b\n",
        "    return([a,b,value,\"hello\"])\n",
        "\n",
        "MySum(7,5)"
      ]
    }
  ]
}