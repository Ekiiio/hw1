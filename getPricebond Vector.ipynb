{
  "nbformat": 4,
  "nbformat_minor": 0,
  "metadata": {
    "colab": {
      "provenance": [],
      "authorship_tag": "ABX9TyN0iO/XE2i6DzpNRWTMg1o+",
      "include_colab_link": true
    },
    "kernelspec": {
      "name": "python3",
      "display_name": "Python 3"
    },
    "language_info": {
      "name": "python"
    }
  },
  "cells": [
    {
      "cell_type": "markdown",
      "metadata": {
        "id": "view-in-github",
        "colab_type": "text"
      },
      "source": [
        "<a href=\"https://colab.research.google.com/github/Ekiiio/hw1/blob/main/getPricebond%20Vector.ipynb\" target=\"_parent\"><img src=\"https://colab.research.google.com/assets/colab-badge.svg\" alt=\"Open In Colab\"/></a>"
      ]
    },
    {
      "cell_type": "code",
      "execution_count": null,
      "metadata": {
        "id": "eXvyjBmCWDc3"
      },
      "outputs": [],
      "source": [
        "@author: tleitch\n",
        "\"\"\"\n",
        "\n",
        "def getBondPrice(y, face, couponRate, m, ppy=1):\n",
        "    df0=1/(1+y/ppy)\n",
        "    dcf=0\n",
        "    df=1\n",
        "    cpn=couponRate*face/ppy\n",
        "    for i in range(1,m+1):\n",
        "      df*=df0\n",
        "      dcf+=cpn*df\n",
        "      print(i,df)\n",
        "\n",
        "      bondPrice=dcf+face*df\n",
        "\n",
        "\n",
        "    return(bondPrice)\n",
        "\n",
        "\n",
        "# Test values\n",
        "\n",
        "y = 0.03\n",
        "face = 2000000\n",
        "couponRate = 0.04\n",
        "m = 10\n",
        "ppy = 1\n",
        "ppy = 2\n",
        "#<no ppy value passed>"
      ]
    }
  ]
}