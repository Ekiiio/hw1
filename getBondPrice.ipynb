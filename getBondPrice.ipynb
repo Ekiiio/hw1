{
  "nbformat": 4,
  "nbformat_minor": 0,
  "metadata": {
    "colab": {
      "provenance": [],
      "include_colab_link": true
    },
    "kernelspec": {
      "name": "python3",
      "display_name": "Python 3"
    },
    "language_info": {
      "name": "python"
    }
  },
  "cells": [
    {
      "cell_type": "markdown",
      "metadata": {
        "id": "view-in-github",
        "colab_type": "text"
      },
      "source": [
        "<a href=\"https://colab.research.google.com/github/Ekiiio/hw1/blob/main/getBondPrice.ipynb\" target=\"_parent\"><img src=\"https://colab.research.google.com/assets/colab-badge.svg\" alt=\"Open In Colab\"/></a>"
      ]
    },
    {
      "cell_type": "code",
      "execution_count": null,
      "metadata": {
        "colab": {
          "base_uri": "https://localhost:8080/"
        },
        "id": "SMC-bUUN9-gj",
        "outputId": "96253832-4792-48aa-f13e-9d59837bc968"
      },
      "outputs": [
        {
          "output_type": "stream",
          "name": "stdout",
          "text": [
            "1 0.970873786407767\n",
            "2 0.9425959091337544\n",
            "3 0.9151416593531596\n",
            "4 0.888487047915689\n",
            "5 0.8626087843841641\n",
            "6 0.8374842566836544\n",
            "7 0.8130915113433539\n",
            "8 0.7894092343139358\n",
            "9 0.7664167323436271\n",
            "10 0.7440939148967253\n"
          ]
        },
        {
          "output_type": "execute_result",
          "data": {
            "text/plain": [
              "2170604.056735517"
            ]
          },
          "metadata": {},
          "execution_count": 7
        }
      ],
      "source": [
        "#!/usr/bin/env python3\n",
        "# -*- coding: utf-8 -*-\n",
        "\"\"\"\n",
        "Created on Tue Jun 11 21:18:56 2024\n",
        "\n",
        "@author: tleitch\n",
        "\"\"\"\n",
        "\n",
        "def getBondPrice(y, face, couponRate, m, ppy=1):\n",
        "    df0=1/(1+y/ppy)\n",
        "    dcf=0\n",
        "    df=1\n",
        "    cpn=couponRate*face/ppy\n",
        "    for i in range(1,m+1):\n",
        "      df*=df0\n",
        "      dcf+=cpn*df\n",
        "      print(i,df)\n",
        "\n",
        "      bondPrice=dcf+face*df\n",
        "\n",
        "\n",
        "    return(bondPrice)\n",
        "\n",
        "\n",
        "# Test values\n",
        "\n",
        "y = 0.03\n",
        "face = 2000000\n",
        "couponRate = 0.04\n",
        "m = 10\n",
        "ppy = 1\n",
        "ppy = 2\n",
        "#<no ppy value passed>\n",
        "\n",
        "getBondPrice(y, face, couponRate, m)\n",
        "\n",
        "\n"
      ]
    },
    {
      "cell_type": "code",
      "source": [
        "#get Bond Duration\n",
        "\n",
        "def getBondDuration(y, face, couponRate, m, ppy=1):\n",
        "    n = m * ppy\n",
        "    period_rate = y / ppy\n",
        "    coupon = (face * couponRate) / ppy\n",
        "    total_pvcf = 0.0\n",
        "    total_pvcf_t = 0.0\n",
        "\n",
        "    for t in range(1, n + 1):\n",
        "        cash_row = coupon + face if t == n else coupon\n",
        "        pv = 1 / (1 + period_rate) ** t\n",
        "        pvcf = cash_row * pv\n",
        "        total_pvcf += pvcf\n",
        "        total_pvcf_t += pvcf * t\n",
        "\n",
        "    duration = total_pvcf_t / total_pvcf\n",
        "    return duration\n",
        "\n",
        "#Test\n",
        "y = 0.03\n",
        "face = 20000000\n",
        "couponRate = 0.04\n",
        "m = 10\n",
        "ppy = 1\n",
        "print(getBondDuration(y, face, couponRate, m, ppy))"
      ],
      "metadata": {
        "colab": {
          "base_uri": "https://localhost:8080/"
        },
        "id": "RKdMAYtdJJ85",
        "outputId": "03e330b4-6f98-44b3-fedf-f480f788f2c7"
      },
      "execution_count": 11,
      "outputs": [
        {
          "output_type": "stream",
          "name": "stdout",
          "text": [
            "8.508690304459574\n"
          ]
        }
      ]
    },
    {
      "cell_type": "code",
      "source": [
        "# getbond Price_E\n",
        "\n",
        "def getBondPrice_E(y, face, couponRate, m, yc):\n",
        "    bondPrice = 0.0\n",
        "    coupon = face * couponRate\n",
        "\n",
        "    for t, y_period in enumerate(yc, start=1):\n",
        "        cash_flow = coupon + face if t == m else coupon\n",
        "        pv_factor = 1 / (1 + y_period) ** t\n",
        "        bondPrice += cash_flow * pv_factor\n",
        "\n",
        "    return bondPrice\n",
        "#Test\n",
        "yc = [0.010, 0.015, 0.020, 0.025, 0.030]\n",
        "face = 2000000\n",
        "couponRate = 0.04\n",
        "m = 5\n",
        "getBondPrice_E(y, face, couponRate, m, yc)"
      ],
      "metadata": {
        "colab": {
          "base_uri": "https://localhost:8080/"
        },
        "id": "fe-DJoGKOu2R",
        "outputId": "fe115e59-cdbb-43b9-e10a-a4c238dfd67d"
      },
      "execution_count": 18,
      "outputs": [
        {
          "output_type": "execute_result",
          "data": {
            "text/plain": [
              "2098948.9705506554"
            ]
          },
          "metadata": {},
          "execution_count": 18
        }
      ]
    },
    {
      "cell_type": "markdown",
      "source": [],
      "metadata": {
        "id": "CeMsFt6-JZyO"
      }
    },
    {
      "cell_type": "code",
      "source": [
        "#getbondPrice_Z\n",
        "def getBondPrice_Z(face, couponRate, times, yc):\n",
        "    coupon = face * couponRate\n",
        "    bondPrice = 0.0\n",
        "    max_time = max(times)\n",
        "\n",
        "    for t, y in zip(times, yc):\n",
        "        y_decimal = y / 100\n",
        "        cash_flow = coupon + face if t == max_time else coupon\n",
        "        pv_factor = 1 / (1 + y_decimal) ** t\n",
        "        bondPrice += cash_flow * pv_factor\n",
        "    return bondPrice\n",
        "\n",
        "# Test\n",
        "yc = [1.0, 1.5, 2.0, 2.5, 3.0]\n",
        "times = [1, 1.5, 3, 4, 7]\n",
        "face = 2000000\n",
        "couponRate = 0.04\n",
        "\n",
        "getBondPrice_Z(face, couponRate, times, yc)\n",
        ""
      ],
      "metadata": {
        "id": "UPbvbHDzREnf",
        "outputId": "d7c27d63-51c5-483e-e164-e821ed6ded26",
        "colab": {
          "base_uri": "https://localhost:8080/"
        }
      },
      "execution_count": 22,
      "outputs": [
        {
          "output_type": "execute_result",
          "data": {
            "text/plain": [
              "1996533.2719139731"
            ]
          },
          "metadata": {},
          "execution_count": 22
        }
      ]
    }
  ]
}