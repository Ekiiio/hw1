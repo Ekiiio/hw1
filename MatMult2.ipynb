{
  "nbformat": 4,
  "nbformat_minor": 0,
  "metadata": {
    "colab": {
      "provenance": [],
      "authorship_tag": "ABX9TyNF9U6ziaWZGDXufSkiO766",
      "include_colab_link": true
    },
    "kernelspec": {
      "name": "python3",
      "display_name": "Python 3"
    },
    "language_info": {
      "name": "python"
    }
  },
  "cells": [
    {
      "cell_type": "markdown",
      "metadata": {
        "id": "view-in-github",
        "colab_type": "text"
      },
      "source": [
        "<a href=\"https://colab.research.google.com/github/Ekiiio/hw1/blob/main/MatMult2.ipynb\" target=\"_parent\"><img src=\"https://colab.research.google.com/assets/colab-badge.svg\" alt=\"Open In Colab\"/></a>"
      ]
    },
    {
      "cell_type": "code",
      "execution_count": 1,
      "metadata": {
        "colab": {
          "base_uri": "https://localhost:8080/"
        },
        "id": "DP1K3-UEeghi",
        "outputId": "21263123-d888-4aa9-c777-91dc115fec1d"
      },
      "outputs": [
        {
          "output_type": "stream",
          "name": "stdout",
          "text": [
            "[30 36 42]\n"
          ]
        }
      ],
      "source": [
        "import numpy as np\n",
        "\n",
        "A= np.array([1,2,3])\n",
        "B= np.array([[1,2,3],[4,5,6],[7,8,9]])\n",
        "\n",
        "result = np.dot(A,B)\n",
        "\n",
        "print(result)"
      ]
    }
  ]
}