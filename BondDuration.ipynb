#get Bond Duration

def getBondDuration(y, face, couponRate, m, ppy=1):
    n = m * ppy
    period_rate = y / ppy
    coupon = (face * couponRate) / ppy
    total_pvcf = 0.0
    total_pvcf_t = 0.0

    for t in range(1, n + 1):
        cash_row = coupon + face if t == n else coupon
        pv = 1 / (1 + period_rate) ** t
        pvcf = cash_row * pv
        total_pvcf += pvcf
        total_pvcf_t += pvcf * t

    duration = total_pvcf_t / total_pvcf
    return duration

#Test
y = 0.03
face = 20000000
couponRate = 0.04
m = 10
ppy = 1
print(getBondDuration(y, face, couponRate, m, ppy))
